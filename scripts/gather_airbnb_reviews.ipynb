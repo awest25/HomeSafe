{
 "cells": [
  {
   "cell_type": "code",
   "execution_count": 1,
   "metadata": {},
   "outputs": [],
   "source": [
    "from transform_csv import rename_string, check_long_lat, transform_long_lat\n",
    "import numpy as np\n",
    "import pandas as pd"
   ]
  },
  {
   "cell_type": "code",
   "execution_count": 2,
   "metadata": {},
   "outputs": [],
   "source": [
    "\n",
    "df_listings = pd.read_csv(\"inside_airbnb_la/listings/listings_detailed.csv\")\n",
    "df_reviews = pd.read_csv(\"inside_airbnb_la/reviews/reviews_detailed.csv\")"
   ]
  },
  {
   "cell_type": "code",
   "execution_count": 3,
   "metadata": {},
   "outputs": [],
   "source": [
    "# Check and process column names\n",
    "df_listings = df_listings.rename(columns=rename_string)\n",
    "df_listings.apply(lambda x: check_long_lat(x[\"longitude\"], x[\"latitude\"]), axis=1)\n",
    "df_listings[\"location\"] = df_listings.apply(lambda x: transform_long_lat(x[\"longitude\"], x[\"latitude\"]), axis=1)\n",
    "df_listings = df_listings.drop(columns=[\"longitude\", \"latitude\"])"
   ]
  },
  {
   "cell_type": "code",
   "execution_count": 4,
   "metadata": {},
   "outputs": [
    {
     "name": "stdout",
     "output_type": "stream",
     "text": [
      "Index(['id', 'listing_url', 'scrape_id', 'last_scraped', 'source', 'name',\n",
      "       'description', 'neighborhood_overview', 'picture_url', 'host_id',\n",
      "       'host_url', 'host_name', 'host_since', 'host_location', 'host_about',\n",
      "       'host_response_time', 'host_response_rate', 'host_acceptance_rate',\n",
      "       'host_is_superhost', 'host_thumbnail_url', 'host_picture_url',\n",
      "       'host_neighbourhood', 'host_listings_count',\n",
      "       'host_total_listings_count', 'host_verifications',\n",
      "       'host_has_profile_pic', 'host_identity_verified', 'neighbourhood',\n",
      "       'neighbourhood_cleansed', 'neighbourhood_group_cleansed',\n",
      "       'property_type', 'room_type', 'accommodates', 'bathrooms',\n",
      "       'bathrooms_text', 'bedrooms', 'beds', 'amenities', 'price',\n",
      "       'minimum_nights', 'maximum_nights', 'minimum_minimum_nights',\n",
      "       'maximum_minimum_nights', 'minimum_maximum_nights',\n",
      "       'maximum_maximum_nights', 'minimum_nights_avg_ntm',\n",
      "       'maximum_nights_avg_ntm', 'calendar_updated', 'has_availability',\n",
      "       'availability_30', 'availability_60', 'availability_90',\n",
      "       'availability_365', 'calendar_last_scraped', 'number_of_reviews',\n",
      "       'number_of_reviews_ltm', 'number_of_reviews_l30d', 'first_review',\n",
      "       'last_review', 'review_scores_rating', 'review_scores_accuracy',\n",
      "       'review_scores_cleanliness', 'review_scores_checkin',\n",
      "       'review_scores_communication', 'review_scores_location',\n",
      "       'review_scores_value', 'license', 'instant_bookable',\n",
      "       'calculated_host_listings_count',\n",
      "       'calculated_host_listings_count_entire_homes',\n",
      "       'calculated_host_listings_count_private_rooms',\n",
      "       'calculated_host_listings_count_shared_rooms', 'reviews_per_month',\n",
      "       'location'],\n",
      "      dtype='object')\n",
      "0                        109\n",
      "1                       2708\n",
      "2                       2732\n",
      "3                       2864\n",
      "4                      63416\n",
      "                ...         \n",
      "45586    1037494589212353675\n",
      "45587    1037575019510875191\n",
      "45588    1037646556537549700\n",
      "45589    1037663899636896646\n",
      "45590    1037702905074810033\n",
      "Name: id, Length: 45591, dtype: int64\n"
     ]
    }
   ],
   "source": [
    "print(df_listings.columns)\n",
    "print(df_listings[\"id\"])"
   ]
  },
  {
   "cell_type": "code",
   "execution_count": 5,
   "metadata": {},
   "outputs": [
    {
     "name": "stdout",
     "output_type": "stream",
     "text": [
      "(32948,)\n"
     ]
    }
   ],
   "source": [
    "# df_reviews.listing_id is a foreign key to df_listings.id\n",
    "print(df_reviews[\"listing_id\"].unique().shape)"
   ]
  },
  {
   "cell_type": "code",
   "execution_count": 6,
   "metadata": {},
   "outputs": [
    {
     "data": {
      "text/html": [
       "<div>\n",
       "<style scoped>\n",
       "    .dataframe tbody tr th:only-of-type {\n",
       "        vertical-align: middle;\n",
       "    }\n",
       "\n",
       "    .dataframe tbody tr th {\n",
       "        vertical-align: top;\n",
       "    }\n",
       "\n",
       "    .dataframe thead th {\n",
       "        text-align: right;\n",
       "    }\n",
       "</style>\n",
       "<table border=\"1\" class=\"dataframe\">\n",
       "  <thead>\n",
       "    <tr style=\"text-align: right;\">\n",
       "      <th></th>\n",
       "      <th>listing_id</th>\n",
       "      <th>id</th>\n",
       "      <th>date</th>\n",
       "      <th>reviewer_id</th>\n",
       "      <th>reviewer_name</th>\n",
       "      <th>comments</th>\n",
       "    </tr>\n",
       "  </thead>\n",
       "  <tbody>\n",
       "    <tr>\n",
       "      <th>0</th>\n",
       "      <td>109</td>\n",
       "      <td>449036</td>\n",
       "      <td>2011-08-15</td>\n",
       "      <td>927861</td>\n",
       "      <td>Edwin</td>\n",
       "      <td>The host canceled my reservation the day befor...</td>\n",
       "    </tr>\n",
       "    <tr>\n",
       "      <th>1</th>\n",
       "      <td>109</td>\n",
       "      <td>74506539</td>\n",
       "      <td>2016-05-15</td>\n",
       "      <td>22509885</td>\n",
       "      <td>Jenn</td>\n",
       "      <td>Me and two friends stayed for four and a half ...</td>\n",
       "    </tr>\n",
       "    <tr>\n",
       "      <th>2</th>\n",
       "      <td>2708</td>\n",
       "      <td>13994902</td>\n",
       "      <td>2014-06-09</td>\n",
       "      <td>10905424</td>\n",
       "      <td>Kuberan</td>\n",
       "      <td>i had a wonderful stay. Everything from start ...</td>\n",
       "    </tr>\n",
       "    <tr>\n",
       "      <th>3</th>\n",
       "      <td>2708</td>\n",
       "      <td>14606598</td>\n",
       "      <td>2014-06-23</td>\n",
       "      <td>2247288</td>\n",
       "      <td>Camilla</td>\n",
       "      <td>Charles is just amazing and he made my stay sp...</td>\n",
       "    </tr>\n",
       "    <tr>\n",
       "      <th>4</th>\n",
       "      <td>2708</td>\n",
       "      <td>39597339</td>\n",
       "      <td>2015-07-25</td>\n",
       "      <td>27974696</td>\n",
       "      <td>Fallon</td>\n",
       "      <td>Staying with Chas was an absolute pleasure. He...</td>\n",
       "    </tr>\n",
       "  </tbody>\n",
       "</table>\n",
       "</div>"
      ],
      "text/plain": [
       "   listing_id        id        date  reviewer_id reviewer_name  \\\n",
       "0         109    449036  2011-08-15       927861         Edwin   \n",
       "1         109  74506539  2016-05-15     22509885          Jenn   \n",
       "2        2708  13994902  2014-06-09     10905424       Kuberan   \n",
       "3        2708  14606598  2014-06-23      2247288       Camilla   \n",
       "4        2708  39597339  2015-07-25     27974696        Fallon   \n",
       "\n",
       "                                            comments  \n",
       "0  The host canceled my reservation the day befor...  \n",
       "1  Me and two friends stayed for four and a half ...  \n",
       "2  i had a wonderful stay. Everything from start ...  \n",
       "3  Charles is just amazing and he made my stay sp...  \n",
       "4  Staying with Chas was an absolute pleasure. He...  "
      ]
     },
     "execution_count": 6,
     "metadata": {},
     "output_type": "execute_result"
    }
   ],
   "source": [
    "df_reviews.head()"
   ]
  },
  {
   "cell_type": "code",
   "execution_count": 7,
   "metadata": {},
   "outputs": [],
   "source": [
    "# convert review into json to match mongo document structure\n",
    "# \"reviews\": [\n",
    "#         {\n",
    "#             \"_id\": \"58663741\",\n",
    "#             \"date\": {\n",
    "#                 \"$date\": \"2016-01-03T05:00:00.000Z\"\n",
    "#             },\n",
    "#             \"listing_id\": \"10006546\",\n",
    "#             \"reviewer_id\": \"51483096\",\n",
    "#             \"reviewer_name\": \"Cátia\",\n",
    "#             \"comments\": \"A casa da Ana e do Gonçalo foram o local escolhido para a passagem de ano com um grupo de amigos. Fomos super bem recebidos com uma grande simpatia e predisposição a ajudar com qualquer coisa que fosse necessário.\\r\\nA casa era ainda melhor do que parecia nas fotos, totalmente equipada, com mantas, aquecedor e tudo o que pudessemos precisar.\\r\\nA localização não podia ser melhor! Não há melhor do que acordar de manhã e ao virar da esquina estar a ribeira do Porto.\"\n",
    "#         },\n",
    "#         ]\n",
    "\n",
    "\n",
    "def mongolize_date(date):\n",
    "    \"\"\"\n",
    "    Convert the date string from YYYY-MM-DD to a ISO 8601, which mongoimport can recognize\n",
    "    \"\"\"\n",
    "    return date + \"T00:00:00.000Z\"\n",
    "\n",
    "\n",
    "def mongolize_reviews(review):\n",
    "    return {\n",
    "        \"date\": {\n",
    "            \"$date\": mongolize_date(review[\"date\"])\n",
    "        },\n",
    "        \"listing_id\": review[\"listing_id\"],\n",
    "        \"reviewer_id\": review[\"reviewer_id\"],\n",
    "        \"reviewer_name\": review[\"reviewer_name\"],\n",
    "        \"comments\": review[\"comments\"]\n",
    "    }\n",
    "\n",
    "\n",
    "df_reviews[\"reviews\"] = df_reviews.apply(lambda x: mongolize_reviews(x), axis=1)"
   ]
  },
  {
   "cell_type": "code",
   "execution_count": 8,
   "metadata": {},
   "outputs": [
    {
     "data": {
      "text/plain": [
       "{'date': {'$date': '2011-08-15T00:00:00.000Z'},\n",
       " 'listing_id': 109,\n",
       " 'reviewer_id': 927861,\n",
       " 'reviewer_name': 'Edwin',\n",
       " 'comments': 'The host canceled my reservation the day before arrival.'}"
      ]
     },
     "execution_count": 8,
     "metadata": {},
     "output_type": "execute_result"
    }
   ],
   "source": [
    "df_reviews[\"reviews\"][0]"
   ]
  },
  {
   "cell_type": "code",
   "execution_count": 9,
   "metadata": {},
   "outputs": [],
   "source": [
    "# Collect reviews of the same listing_id into one array\n",
    "df_reviews_grouped = df_reviews.groupby(\"listing_id\")[\"reviews\"].apply(list).reset_index()"
   ]
  },
  {
   "cell_type": "code",
   "execution_count": 10,
   "metadata": {},
   "outputs": [
    {
     "name": "stdout",
     "output_type": "stream",
     "text": [
      "(32948, 2)\n"
     ]
    },
    {
     "data": {
      "text/html": [
       "<div>\n",
       "<style scoped>\n",
       "    .dataframe tbody tr th:only-of-type {\n",
       "        vertical-align: middle;\n",
       "    }\n",
       "\n",
       "    .dataframe tbody tr th {\n",
       "        vertical-align: top;\n",
       "    }\n",
       "\n",
       "    .dataframe thead th {\n",
       "        text-align: right;\n",
       "    }\n",
       "</style>\n",
       "<table border=\"1\" class=\"dataframe\">\n",
       "  <thead>\n",
       "    <tr style=\"text-align: right;\">\n",
       "      <th></th>\n",
       "      <th>listing_id</th>\n",
       "      <th>reviews</th>\n",
       "    </tr>\n",
       "  </thead>\n",
       "  <tbody>\n",
       "    <tr>\n",
       "      <th>0</th>\n",
       "      <td>109</td>\n",
       "      <td>[{'date': {'$date': '2011-08-15T00:00:00.000Z'...</td>\n",
       "    </tr>\n",
       "    <tr>\n",
       "      <th>1</th>\n",
       "      <td>2708</td>\n",
       "      <td>[{'date': {'$date': '2014-06-09T00:00:00.000Z'...</td>\n",
       "    </tr>\n",
       "    <tr>\n",
       "      <th>2</th>\n",
       "      <td>2732</td>\n",
       "      <td>[{'date': {'$date': '2011-06-06T00:00:00.000Z'...</td>\n",
       "    </tr>\n",
       "    <tr>\n",
       "      <th>3</th>\n",
       "      <td>5728</td>\n",
       "      <td>[{'date': {'$date': '2009-07-17T00:00:00.000Z'...</td>\n",
       "    </tr>\n",
       "    <tr>\n",
       "      <th>4</th>\n",
       "      <td>5843</td>\n",
       "      <td>[{'date': {'$date': '2011-05-17T00:00:00.000Z'...</td>\n",
       "    </tr>\n",
       "  </tbody>\n",
       "</table>\n",
       "</div>"
      ],
      "text/plain": [
       "   listing_id                                            reviews\n",
       "0         109  [{'date': {'$date': '2011-08-15T00:00:00.000Z'...\n",
       "1        2708  [{'date': {'$date': '2014-06-09T00:00:00.000Z'...\n",
       "2        2732  [{'date': {'$date': '2011-06-06T00:00:00.000Z'...\n",
       "3        5728  [{'date': {'$date': '2009-07-17T00:00:00.000Z'...\n",
       "4        5843  [{'date': {'$date': '2011-05-17T00:00:00.000Z'..."
      ]
     },
     "execution_count": 10,
     "metadata": {},
     "output_type": "execute_result"
    }
   ],
   "source": [
    "print(df_reviews_grouped.shape)\n",
    "df_reviews_grouped.head()"
   ]
  },
  {
   "cell_type": "code",
   "execution_count": 11,
   "metadata": {},
   "outputs": [],
   "source": [
    "# Join df_reviews_grouped with df_listings on listing_id\n",
    "df_listings_and_reviews = pd.merge(df_listings, df_reviews_grouped, left_on=\"id\", right_on=\"listing_id\", how=\"left\")"
   ]
  },
  {
   "cell_type": "code",
   "execution_count": 12,
   "metadata": {},
   "outputs": [
    {
     "name": "stdout",
     "output_type": "stream",
     "text": [
      "(45591, 76)\n",
      "(45591, 74)\n"
     ]
    }
   ],
   "source": [
    "print(df_listings_and_reviews.shape)\n",
    "print(df_listings.shape)"
   ]
  },
  {
   "cell_type": "code",
   "execution_count": 13,
   "metadata": {},
   "outputs": [
    {
     "data": {
      "text/plain": [
       "[{'date': {'$date': '2011-08-15T00:00:00.000Z'},\n",
       "  'listing_id': 109,\n",
       "  'reviewer_id': 927861,\n",
       "  'reviewer_name': 'Edwin',\n",
       "  'comments': 'The host canceled my reservation the day before arrival.'},\n",
       " {'date': {'$date': '2016-05-15T00:00:00.000Z'},\n",
       "  'listing_id': 109,\n",
       "  'reviewer_id': 22509885,\n",
       "  'reviewer_name': 'Jenn',\n",
       "  'comments': \"Me and two friends stayed for four and a half months. It was a great place to stay! The apartment was very comfortable and I really enjoyed having the park with running path across the street. The only downside was it wasn't within walking distance to restaurants, bars, or coffee shops. But they are a short drive away. Overall, great stay!\"}]"
      ]
     },
     "execution_count": 13,
     "metadata": {},
     "output_type": "execute_result"
    }
   ],
   "source": [
    "df_listings_and_reviews[\"reviews\"][0]"
   ]
  },
  {
   "cell_type": "code",
   "execution_count": 14,
   "metadata": {},
   "outputs": [],
   "source": [
    "# Drop unnecessary columns\n",
    "useless_cols = [\"host_neighbourhood\",\n",
    "                \"host_listings_count\",\n",
    "                \"host_total_listings_count\",\n",
    "                \"host_has_profile_pic\",\n",
    "                \"availability_30\",\n",
    "                \"availability_60\",\n",
    "                \"availability_90\",\n",
    "                \"availability_365\",\n",
    "                \"instant_bookable\",\n",
    "                \"host_thumbnail_url\",\n",
    "                \"host_picture_url\",\n",
    "]\n",
    "\n",
    "df_listings_and_reviews = df_listings_and_reviews.drop(columns=useless_cols)"
   ]
  },
  {
   "cell_type": "code",
   "execution_count": 15,
   "metadata": {},
   "outputs": [],
   "source": [
    "df_listings_and_reviews.to_json(\"listing_and_reviews.json\", orient=\"records\", lines=True)"
   ]
  }
 ],
 "metadata": {
  "kernelspec": {
   "display_name": ".venv",
   "language": "python",
   "name": "python3"
  },
  "language_info": {
   "codemirror_mode": {
    "name": "ipython",
    "version": 3
   },
   "file_extension": ".py",
   "mimetype": "text/x-python",
   "name": "python",
   "nbconvert_exporter": "python",
   "pygments_lexer": "ipython3",
   "version": "3.12.3"
  }
 },
 "nbformat": 4,
 "nbformat_minor": 2
}
